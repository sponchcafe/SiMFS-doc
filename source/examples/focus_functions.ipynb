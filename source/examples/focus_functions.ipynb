{
 "cells": [
  {
   "cell_type": "markdown",
   "metadata": {},
   "source": [
    "# SiMFS-Tk Example: Focus functions\n",
    "This example showcases SiMFS-Tk's builtin focus functions and how to evaluate them on a diffusion trajectory. \n",
    "\n",
    "### Components\n",
    "\n",
    "- ``simfs_dif``\n",
    "- ``simfs_exi``\n",
    "- ``simfs_pre``"
   ]
  },
  {
   "cell_type": "markdown",
   "metadata": {},
   "source": [
    "### Imports"
   ]
  },
  {
   "cell_type": "code",
   "execution_count": 1,
   "metadata": {},
   "outputs": [
    {
     "name": "stdout",
     "output_type": "stream",
     "text": [
      "All simfs components found in /opt/SiMFS-Tk/SiMFS-core/build/src/components/.\n"
     ]
    }
   ],
   "source": [
    "import os\n",
    "import numpy as np\n",
    "import matplotlib.pyplot as plt\n",
    "\n",
    "from pysimfs import *"
   ]
  },
  {
   "cell_type": "markdown",
   "metadata": {},
   "source": [
    "## Evaluating an excitation focus"
   ]
  },
  {
   "cell_type": "code",
   "execution_count": 21,
   "metadata": {},
   "outputs": [
    {
     "name": "stdout",
     "output_type": "stream",
     "text": [
      "Folder ./pysimfs_data exists.\n",
      "started /opt/SiMFS-Tk/SiMFS-core/build/src/components/mol/simfs_dif\n",
      "started /opt/SiMFS-Tk/SiMFS-core/build/src/components/fcs/simfs_exi\n",
      "Simulation completed after 0.14 seconds.\n"
     ]
    }
   ],
   "source": [
    "with Simulation() as s:\n",
    "    s.add(\n",
    "        Diffusion(\n",
    "            collision_output=os.devnull, \n",
    "            coordinate_output='coords', \n",
    "            experiment_time=20e-3\n",
    "        )\n",
    "    )\n",
    "    s.add(\n",
    "        Excitation(\n",
    "            input='coords',\n",
    "            output='exi.dat',\n",
    "            power=10e-6,\n",
    "            wavelength=488e-9\n",
    "        )\n",
    "    )\n",
    "    log = s.run()\n",
    "    res = s.get_results()"
   ]
  },
  {
   "cell_type": "markdown",
   "metadata": {},
   "source": [
    "### Inspecting the data\n",
    "\n",
    "Pysimfs loads the generated data from the simulation files as ``numpy`` arrays with a preset data type.\n",
    "Focus values are a typed array of ``(v, t)`` tuples."
   ]
  },
  {
   "cell_type": "code",
   "execution_count": 22,
   "metadata": {},
   "outputs": [
    {
     "data": {
      "text/plain": [
       "array([(3.91571675e+15, 0.00000e+00), (5.47445933e+15, 1.00000e-07),\n",
       "       (5.58634676e+15, 2.00000e-07), ..., (6.90426074e+11, 1.99997e-02),\n",
       "       (6.83326930e+11, 1.99998e-02), (5.94421924e+11, 1.99999e-02)],\n",
       "      dtype=[('v', '<f8'), ('t', '<f8')])"
      ]
     },
     "execution_count": 22,
     "metadata": {},
     "output_type": "execute_result"
    }
   ],
   "source": [
    "excitation = res['exi.dat']\n",
    "excitation"
   ]
  },
  {
   "cell_type": "markdown",
   "metadata": {},
   "source": [
    "Plotting the photon flux density $\\Phi$ vs time shows a the fluctuating pattern of laser intensity that *\"hits\"* the molecule during the expriment."
   ]
  },
  {
   "cell_type": "code",
   "execution_count": 23,
   "metadata": {},
   "outputs": [
    {
     "data": {
      "text/plain": [
       "Text(0.5, 0, 'Time in ms')"
      ]
     },
     "execution_count": 23,
     "metadata": {},
     "output_type": "execute_result"
    },
    {
     "data": {
      "image/png": "[encoded data removed]",
      "text/plain": [
       "<Figure size 432x288 with 1 Axes>"
      ]
     },
     "metadata": {
      "needs_background": "light"
     },
     "output_type": "display_data"
    }
   ],
   "source": [
    "fig = plt.figure()\n",
    "plt.plot(excitation['t']*1e+3, excitation['v'])\n",
    "plt.grid()\n",
    "plt.ylabel(r'Photon flux density $\\Phi$ in $\\frac{1}{m^2 \\cdot s}$')\n",
    "plt.xlabel('Time in ms')"
   ]
  },
  {
   "cell_type": "markdown",
   "metadata": {},
   "source": [
    "## Focus shapes\n",
    "\n",
    "The photon flux density is calculated according to:\n",
    "\n",
    "$$\\Phi = \\frac{P  \\lambda}{\\rm h \\rm c} \\cdot F(x, y, z)$$\n",
    "\n",
    "where $P$ is the laser power, $\\lambda$ the wavelength and $\\rm h$ and $\\rm c$ Planck's constant and the speed of light. $F(x,y,z)$ describes the focus shape. One approach to normalize $F$ is to require that for every value of $z$: $\\iint_{-\\infty}^\\infty  \\text{dx dy} = 1$, i.e. every xy-slice along z needs to have unit area. Intuitively, every excitation photon (all the energy) has to pass every plane along z at some point.\n",
    "\n",
    "There are severel builtin focus shapes $F(x, y, z)$ for this purpose, that partially or completely fulfill this constraint.\n",
    "\n",
    "1. Gauss (only in z=0)\n",
    "   $$F_\\text{Gauss} = \\frac{1}{\\frac{\\pi}{2} w_x w_y} \\cdot e^{2\\frac{x^2}{w_x^2}} \\cdot e^{2\\frac{y^2}{w_y^2}} \\cdot e^{2\\frac{z^2}{w_z^2}}$$\n",
    "   \n",
    "2. Gauss with z-modulated xy-waist\n",
    "   $$F_\\text{GaussMod} = $$\n",
    "   \n",
    "   ... TODO\n",
    "   \n",
    "### Using focus shapes\n",
    "\n",
    "To use focus shape with ``simfs_exi`` you set the ``type`` parameter to one of\n",
    "\n",
    "- ``3dGauss``\n",
    "- ``XYGaussZExp``\n",
    "- ``gaussBeam``\n",
    "- ``eField``\n",
    "- ``grid``\n",
    "\n",
    "To configure the shape paramters, set them in the toplevel ``shape`` paramter. For example, to  use the modulated Gaussian with different focus waists we get the default parameters for the ``XYGaussZExp`` type:"
   ]
  },
  {
   "cell_type": "code",
   "execution_count": 11,
   "metadata": {},
   "outputs": [
    {
     "data": {
      "text/plain": [
       "{'waist_xy': 2.49e-07, 'waist_z': 6.37e-07}"
      ]
     },
     "execution_count": 11,
     "metadata": {},
     "output_type": "execute_result"
    }
   ],
   "source": [
    "shape = Excitation(type='XYGaussZExp').params['shape']\n",
    "shape"
   ]
  },
  {
   "cell_type": "markdown",
   "metadata": {},
   "source": [
    "And reset the parameters that we are interested in:"
   ]
  },
  {
   "cell_type": "code",
   "execution_count": 12,
   "metadata": {},
   "outputs": [
    {
     "data": {
      "text/plain": [
       "{'waist_xy': 2.3e-07, 'waist_z': 5.9e-07}"
      ]
     },
     "execution_count": 12,
     "metadata": {},
     "output_type": "execute_result"
    }
   ],
   "source": [
    "shape['waist_xy'] = 230e-9\n",
    "shape['waist_z'] = 590e-9\n",
    "shape"
   ]
  },
  {
   "cell_type": "markdown",
   "metadata": {},
   "source": [
    "Now you can run a simulation with the parametrized focus function:"
   ]
  },
  {
   "cell_type": "code",
   "execution_count": 13,
   "metadata": {},
   "outputs": [
    {
     "name": "stdout",
     "output_type": "stream",
     "text": [
      "Folder ./pysimfs_data exists.\n",
      "started /opt/SiMFS-Tk/SiMFS-core/build/src/components/mol/simfs_dif\n",
      "started /opt/SiMFS-Tk/SiMFS-core/build/src/components/fcs/simfs_exi\n",
      "Simulation completed after 0.12 seconds.\n"
     ]
    }
   ],
   "source": [
    "with Simulation() as s:\n",
    "    s.add(\n",
    "        Diffusion(\n",
    "            collision_output=os.devnull, \n",
    "            coordinate_output='coords', \n",
    "            experiment_time=20e-3\n",
    "        )\n",
    "    )\n",
    "    s.add(\n",
    "        Excitation(\n",
    "            input='coords',\n",
    "            output='exi.dat',\n",
    "            type='XYGaussZExp',\n",
    "            shape=shape,\n",
    "            power=10e-6,\n",
    "            wavelength=488e-9\n",
    "        )\n",
    "    )\n",
    "    log = s.run()\n",
    "    res = s.get_results()"
   ]
  },
  {
   "cell_type": "markdown",
   "metadata": {},
   "source": [
    "## Precalculating shapes\n",
    "\n",
    "Sometimes it is desirable to get a full picture of your focus shape. In some cases (like the ``eField`` shape) it is the only way to efficiently use it in a simulation since it is expensive to calculate online. For these cases, there is ``simfs_pre``. It evaluates a focus function on a grid and saves the data to a file. It is a special component, in that it is not used in a pipeline context, but prior to a simulation run to build a lookup file for the ``grid`` focus shape."
   ]
  },
  {
   "cell_type": "code",
   "execution_count": 39,
   "metadata": {},
   "outputs": [
    {
     "data": {
      "text/plain": [
       "{'filename': '__focus__.dat',\n",
       " 'grid': {'x': {'max': 1e-06, 'min': -1e-06, 'n': 101},\n",
       "  'y': {'max': 1e-06, 'min': -1e-06, 'n': 101},\n",
       "  'z': {'max': 1e-06, 'min': -1e-06, 'n': 101}},\n",
       " 'shape': {'phi': {'max': 360.0, 'min': 0.0, 'n': 10},\n",
       "  'polarization': {'x': True, 'y': True},\n",
       "  'theta': {'max': 64.0, 'min': 0.0, 'n': 10},\n",
       "  'wavelength': 4.88e-07},\n",
       " 'type': 'eField'}"
      ]
     },
     "execution_count": 39,
     "metadata": {},
     "output_type": "execute_result"
    }
   ],
   "source": [
    "Precalculate(type='eField', shape={'theta':{'n':10}, 'phi': {'n': 10}}).params"
   ]
  },
  {
   "cell_type": "code",
   "execution_count": 40,
   "metadata": {},
   "outputs": [
    {
     "name": "stdout",
     "output_type": "stream",
     "text": [
      "Folder ./pysimfs_data exists.\n",
      "started /opt/SiMFS-Tk/SiMFS-core/build/src/components/fcs/simfs_pre\n",
      "Simulation completed after 1.12 seconds.\n",
      "Folder ./pysimfs_data exists.\n",
      "started /opt/SiMFS-Tk/SiMFS-core/build/src/components/fcs/simfs_pre\n",
      "Simulation completed after 1.11 seconds.\n",
      "Folder ./pysimfs_data exists.\n",
      "started /opt/SiMFS-Tk/SiMFS-core/build/src/components/fcs/simfs_pre\n",
      "Simulation completed after 1.1 seconds.\n",
      "Folder ./pysimfs_data exists.\n",
      "started /opt/SiMFS-Tk/SiMFS-core/build/src/components/fcs/simfs_pre\n",
      "Simulation completed after 3.12 seconds.\n"
     ]
    }
   ],
   "source": [
    "grid = {\n",
    "    'x': {'max': 1e-06, 'min': -1e-06, 'n': 101},\n",
    "    'y': {'max': 1e-06, 'min': -1e-06, 'n': 101},\n",
    "    'z': {'max': 1.5e-06, 'min': -1.5e-06, 'n': 101}\n",
    "}\n",
    "\n",
    "types =  ('3dGauss', 'XYGaussZExp', 'gaussBeam')\n",
    "\n",
    "for t in types:\n",
    "    with Simulation() as S:\n",
    "        S.add(Precalculate(type=t, filename=f'{t}.dat', grid=grid))\n",
    "        S.run()\n",
    "        \n",
    "with Simulation() as S:\n",
    "    S.add(\n",
    "        Precalculate(\n",
    "            type='eField', \n",
    "            filename=f'eField.dat', \n",
    "            grid=grid, \n",
    "            shape={\n",
    "                'theta': {'n':10},  # reduce the accuracy to save time \n",
    "                'phi': {'n': 10}\n",
    "            }\n",
    "        )\n",
    "    )\n",
    "    log = S.run()\n",
    "        "
   ]
  },
  {
   "cell_type": "code",
   "execution_count": 41,
   "metadata": {},
   "outputs": [],
   "source": [
    "gauss  = utils.PrecalculatedGridData('3dGauss.dat',     dtype='f8')\n",
    "exp    = utils.PrecalculatedGridData('XYGaussZExp.dat', dtype='f8')\n",
    "gbeam  = utils.PrecalculatedGridData('gaussBeam.dat',   dtype='f8')\n",
    "efield  = utils.PrecalculatedGridData('eField.dat',   dtype='f8')"
   ]
  },
  {
   "cell_type": "markdown",
   "metadata": {},
   "source": [
    "We can take a look at the shapes now. Note that the ``GridData`` class has some helpers ``_ix``, ``_iy`` and ``_iz`` that compute the grid index for a given real-space position in m. The expression ``img.data[:,img._iy(0),:].T`` is the xz-plane at y=0. "
   ]
  },
  {
   "cell_type": "code",
   "execution_count": 46,
   "metadata": {},
   "outputs": [
    {
     "data": {
      "image/png": "[encoded data removed]",
      "text/plain": [
       "<Figure size 720x360 with 4 Axes>"
      ]
     },
     "metadata": {
      "needs_background": "light"
     },
     "output_type": "display_data"
    }
   ],
   "source": [
    "fig, axes = plt.subplots(ncols=4, figsize=(10,5))\n",
    "\n",
    "for img, ax, title in zip((gauss, exp, gbeam, efield), axes, list(types)+['eField']):\n",
    "    ax.imshow(img.data[:,img._iy(0),:].T, extent=(-1, 1, -1.5, 1.5), interpolation='nearest')\n",
    "    ax.set_title(title)\n",
    "    ax.set_xlabel('x in µm')\n",
    "    ax.set_ylabel('z in µm')\n",
    "    \n",
    "plt.tight_layout()"
   ]
  },
  {
   "cell_type": "markdown",
   "metadata": {},
   "source": [
    "## Interpolating a focus shape\n",
    "\n",
    "You may have noticed that the E-field shape is expensive to compute. To use it in a simulation we *have* to precalculate it.\n",
    "Once we spent the time generating a grid with sufficient resolution, we can use it with ``simfs_exi`` or ``simfs_det`` by setting the ``grid`` shape:"
   ]
  },
  {
   "cell_type": "code",
   "execution_count": 65,
   "metadata": {},
   "outputs": [
    {
     "name": "stdout",
     "output_type": "stream",
     "text": [
      "Folder ./pysimfs_data exists.\n",
      "started /opt/SiMFS-Tk/SiMFS-core/build/src/components/mol/simfs_dif\n",
      "started /opt/SiMFS-Tk/SiMFS-core/build/src/components/fcs/simfs_exi\n",
      "Simulation completed after 0.14 seconds.\n"
     ]
    }
   ],
   "source": [
    "with Simulation() as s:\n",
    "    s.add(\n",
    "        Diffusion(\n",
    "            collision_output=os.devnull, \n",
    "            coordinate_output='coords', \n",
    "            experiment_time=20e-3\n",
    "        )\n",
    "    )\n",
    "    s.add(\n",
    "        Excitation(\n",
    "            input='coords',\n",
    "            output='exi.dat',\n",
    "            type='grid',\n",
    "            shape={\n",
    "                'file': 'eField.dat',\n",
    "                'interpolation': 'nearest' # or linear\n",
    "            },\n",
    "            power=10e-6,\n",
    "            wavelength=488e-9\n",
    "        )\n",
    "    )\n",
    "    log = s.run()\n",
    "    res = s.get_results()"
   ]
  },
  {
   "cell_type": "markdown",
   "metadata": {},
   "source": [
    "In this way the grid shape can be used to load external focus shapes from disk. Check the ``simfs_pre`` documentation for details on the required file format."
   ]
  },
  {
   "cell_type": "code",
   "execution_count": 66,
   "metadata": {},
   "outputs": [
    {
     "name": "stdout",
     "output_type": "stream",
     "text": [
      "/home/tizi/SiMFS-Tk/SiMFS-doc/source/examples\n"
     ]
    }
   ],
   "source": [
    "!pwd"
   ]
  },
  {
   "cell_type": "code",
   "execution_count": null,
   "metadata": {},
   "outputs": [],
   "source": []
  }
 ],
 "metadata": {
  "kernelspec": {
   "display_name": "Python [default]",
   "language": "python",
   "name": "python3"
  },
  "language_info": {
   "codemirror_mode": {
    "name": "ipython",
    "version": 3
   },
   "file_extension": ".py",
   "mimetype": "text/x-python",
   "name": "python",
   "nbconvert_exporter": "python",
   "pygments_lexer": "ipython3",
   "version": "3.6.6"
  }
 },
 "nbformat": 4,
 "nbformat_minor": 2
}
