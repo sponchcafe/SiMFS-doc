{
 "cells": [
  {
   "cell_type": "markdown",
   "metadata": {},
   "source": [
    "# SiMFS-Tk Example: Immobilized fluorophore\n",
    "\n",
    "This example demonstrates the usage of ``simfs_ph2`` in a standalone setting. No diffusion, no excitation focus shape - just a constant laser excitation and a fluorescence rate system.\n",
    "\n",
    "### Components\n",
    "\n",
    "- ``simfs_ph2``"
   ]
  },
  {
   "cell_type": "markdown",
   "metadata": {},
   "source": [
    "### Imports"
   ]
  },
  {
   "cell_type": "code",
   "execution_count": 1,
   "metadata": {},
   "outputs": [
    {
     "name": "stdout",
     "output_type": "stream",
     "text": [
      "All simfs components found in /opt/SiMFS-Tk/SiMFS-core/build/src/components/.\n"
     ]
    }
   ],
   "source": [
    "import os\n",
    "import numpy as np\n",
    "import matplotlib.pyplot as plt\n",
    "\n",
    "from pysimfs import *"
   ]
  },
  {
   "cell_type": "markdown",
   "metadata": {},
   "source": [
    "## Looking at ``simfs_ph2`` parameters\n",
    "Let's take a look at the default parameters of ``simfs_ph2``: Although they look complex, there are only three top-level parameters: An initial state, a Jablonsky diagram and a seed. The Jablonsky diagram specifies the rate system that is simulated. The names of the edges are user defined. Each entry is an edge in the rate graph. Each edge has an source and a target state (``from`` and ``to``) that are also identified by user-defined names. Furthermore, the ``rate`` field specifies the transition rate of this state transition in Hz. This is a standard 3-level system with **S0**, **S1** and **T1** and the common transitions. In addition there is a bleaching transition from **T1** to node **X**. This transition allows the simulation to terminate. Since X is is a dead end, the simulation terminates once this edge is traversed. To produce some output, the emission edge has the ``output`` parameter set to a file, where photon emission event times will be written."
   ]
  },
  {
   "cell_type": "code",
   "execution_count": 3,
   "metadata": {},
   "outputs": [],
   "source": [
    "# %simfs_default ph2\n",
    "ph2_params = {\n",
    "    'initial_state': 'S0',\n",
    "    'jablonsky': {\n",
    "        'bleach': {\n",
    "            'from': 'T1',\n",
    "            'rate': 100.0,\n",
    "            'to': 'X'\n",
    "        },\n",
    "        'emi': {\n",
    "            'from': 'S1',\n",
    "            'output': '__emission__',\n",
    "            'rate': 100000000.0,\n",
    "            'to': 'S0'\n",
    "        },\n",
    "        'exi': {\n",
    "            'from': 'S0',\n",
    "            'rate': 10000000.0,\n",
    "            'to': 'S1'\n",
    "        },\n",
    "        'isc': {\n",
    "            'from': 'S1',\n",
    "            'rate': 100000.0,\n",
    "            'to': 'T1'\n",
    "        },\n",
    "        'risc': {\n",
    "            'from': 'T1',\n",
    "            'rate': 100000.0,\n",
    "            'to': 'S0'\n",
    "        }\n",
    "    },\n",
    "    'seed': 505584154\n",
    "}"
   ]
  },
  {
   "cell_type": "code",
   "execution_count": 4,
   "metadata": {},
   "outputs": [
    {
     "name": "stdout",
     "output_type": "stream",
     "text": [
      "Folder ./pysimfs_data exists.\n",
      "started /opt/SiMFS-Tk/SiMFS-core/build/src/components/ph2/simfs_ph2\n",
      "Simulation completed after 0.18 seconds.\n"
     ]
    }
   ],
   "source": [
    "with Simulation() as S:\n",
    "    S.add(Fluorophore(**ph2_params))\n",
    "    log = S.run()\n",
    "    res = S.get_results()"
   ]
  },
  {
   "cell_type": "markdown",
   "metadata": {},
   "source": [
    "### Inspecting the data\n",
    "\n",
    "Pysimfs loads the generated data from the simulation files as ``numpy`` arrays with a preset data type.\n",
    "Photons are plain double precision floating point times."
   ]
  },
  {
   "cell_type": "code",
   "execution_count": 5,
   "metadata": {},
   "outputs": [
    {
     "data": {
      "text/plain": [
       "array([1.09391005e-07, 2.50256432e-07, 6.72851859e-07, ...,\n",
       "       3.94757667e-02, 3.94759112e-02, 3.94761991e-02])"
      ]
     },
     "execution_count": 5,
     "metadata": {},
     "output_type": "execute_result"
    }
   ],
   "source": [
    "emission = res['emi.dat']\n",
    "emission"
   ]
  },
  {
   "cell_type": "markdown",
   "metadata": {},
   "source": [
    "We see that the simulation terminated after a short time indicating bleaching of the dye. Plotting a histogram of the phtons shows a corresponding bleaching curve:"
   ]
  },
  {
   "cell_type": "code",
   "execution_count": 6,
   "metadata": {},
   "outputs": [],
   "source": [
    "tmax_pts = int(round(emission.max()*10000*1.2))\n",
    "tmax = tmax_pts/10000\n",
    "\n",
    "t = np.linspace(0, tmax, tmax_pts)\n",
    "hist, bins = np.histogram(emission, bins=t)"
   ]
  },
  {
   "cell_type": "code",
   "execution_count": 7,
   "metadata": {},
   "outputs": [
    {
     "data": {
      "image/png": "[encoded data removed]",
      "text/plain": [
       "<Figure size 432x288 with 1 Axes>"
      ]
     },
     "metadata": {
      "needs_background": "light"
     },
     "output_type": "display_data"
    }
   ],
   "source": [
    "fig = plt.figure()\n",
    "plt.plot(bins[:-1], hist)\n",
    "plt.grid()"
   ]
  },
  {
   "cell_type": "markdown",
   "metadata": {},
   "source": [
    "## Correlation\n",
    "\n",
    "So far the timetrace is pretty boring. We can look further into the data with a quick correlation. We are going to use ``pycorrelate`` to do so:"
   ]
  },
  {
   "cell_type": "code",
   "execution_count": 8,
   "metadata": {},
   "outputs": [],
   "source": [
    "from pycorrelate import pcorrelate"
   ]
  },
  {
   "cell_type": "code",
   "execution_count": 9,
   "metadata": {},
   "outputs": [],
   "source": [
    "tau = np.logspace(-10, -3, 50)\n",
    "cor = pcorrelate(emission, emission, tau, normalize=True)"
   ]
  },
  {
   "cell_type": "markdown",
   "metadata": {},
   "source": [
    "The plot of the correlation reveals the antibunching of photons on the ns timescale as well as the triplet dynamics in the µs regime:"
   ]
  },
  {
   "cell_type": "code",
   "execution_count": 11,
   "metadata": {},
   "outputs": [
    {
     "data": {
      "image/png": "[encoded data removed]",
      "text/plain": [
       "<Figure size 432x288 with 1 Axes>"
      ]
     },
     "metadata": {
      "needs_background": "light"
     },
     "output_type": "display_data"
    }
   ],
   "source": [
    "plt.semilogx(tau[:-1], cor)\n",
    "plt.grid()"
   ]
  },
  {
   "cell_type": "code",
   "execution_count": null,
   "metadata": {},
   "outputs": [],
   "source": []
  }
 ],
 "metadata": {
  "kernelspec": {
   "display_name": "Python [default]",
   "language": "python",
   "name": "python3"
  },
  "language_info": {
   "codemirror_mode": {
    "name": "ipython",
    "version": 3
   },
   "file_extension": ".py",
   "mimetype": "text/x-python",
   "name": "python",
   "nbconvert_exporter": "python",
   "pygments_lexer": "ipython3",
   "version": "3.6.6"
  }
 },
 "nbformat": 4,
 "nbformat_minor": 2
}
